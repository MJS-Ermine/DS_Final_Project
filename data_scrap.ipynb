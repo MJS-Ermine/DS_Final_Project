{
 "cells": [
  {
   "cell_type": "markdown",
   "id": "603db193",
   "metadata": {},
   "source": [
    "### 抓 pdf 資料"
   ]
  },
  {
   "cell_type": "code",
   "execution_count": null,
   "id": "46ba0088",
   "metadata": {},
   "outputs": [
    {
     "name": "stdout",
     "output_type": "stream",
     "text": [
      "All tables extracted and saved to 農業觀測站.csv\n"
     ]
    }
   ],
   "source": [
    "import pdfplumber\n",
    "import pandas as pd\n",
    "\n",
    "all_data = []  # 儲存所有頁面表格的資料\n",
    "columns = None\n",
    "\n",
    "with pdfplumber.open(\"agrStationInfo.pdf\") as pdf:\n",
    "    for page in pdf.pages:\n",
    "        table = page.extract_table()\n",
    "        if table:\n",
    "            if not columns:\n",
    "                columns = table[0]  # 第一頁取得欄位名稱\n",
    "            all_data.extend(table[1:])  # 跳過表頭，加進內容資料\n",
    "\n",
    "# 建立 DataFrame 並儲存成 CSV\n",
    "df = pd.DataFrame(all_data, columns=columns)\n",
    "df.to_csv(\"農業觀測站.csv\", index=False, encoding='utf-8-sig')\n",
    "\n",
    "print(\"All tables extracted and saved to 農業觀測站.csv\")\n"
   ]
  },
  {
   "cell_type": "markdown",
   "id": "395a4755",
   "metadata": {},
   "source": [
    "### 整理 pdf 資料並找到對應的觀測站"
   ]
  },
  {
   "cell_type": "code",
   "execution_count": 3,
   "id": "9f6ea809",
   "metadata": {},
   "outputs": [],
   "source": [
    "data = pd.read_csv(\"農業觀測站.csv\")"
   ]
  },
  {
   "cell_type": "code",
   "execution_count": 4,
   "id": "3d59ecd3",
   "metadata": {},
   "outputs": [
    {
     "name": "stdout",
     "output_type": "stream",
     "text": [
      "    項次    測站代碼   測站中文名稱   縣市   鄉鎮                                 地址  \\\n",
      "0    1  12J990    口湖工作站  雲林縣  口湖鄉                         口湖村成功路180號   \n",
      "10  11  72K220   南改斗南分場  雲林縣  斗南鎮                           復興路1~15號   \n",
      "27  28  A2k360  水試臺西試驗場  雲林縣  臺西鄉                      雲林縣臺西鄉中央路271號   \n",
      "28  29  A2K630   臺大雲林校區  雲林縣  虎尾鎮  雲林縣虎尾鎮學府西路8號(台大雲林分部，農業推廣教育中心，鋤禾館)   \n",
      "35  36   CAJ05   海口故事園區  雲林縣  口湖鄉                            新港綠化公園旁   \n",
      "47  48   C2K24       草嶺  雲林縣  古坑鄉                        雲林縣古坑鄉草嶺村龍頭   \n",
      "62  63  E2K600    四湖植物園  雲林縣  四湖鄉                          中華路62巷80號   \n",
      "78  79  V2K620    麥寮合作社  雲林縣  麥寮鄉                  雲林縣麥寮鄉山寮段271,272號   \n",
      "\n",
      "    經度_WGS84   緯度_WGS84  海拔(橢球高)(m)   測站資料起始時間)   原測站名  \n",
      "0   120.1804  23.589978        10.0   2018/12/5    NaN  \n",
      "10  120.4773  23.634556        60.0    1987/1/1   雲林分場  \n",
      "27  120.1905  23.717231         1.0    1990/1/2  臺西水試所  \n",
      "28  120.4239  23.730628        45.0  2019/12/12    NaN  \n",
      "35  120.1412  23.575430         2.3  2021/12/29    NaN  \n",
      "47  120.6935  23.595550      1132.0    2024/1/8    NaN  \n",
      "62  120.1634  23.676986        11.0  2018/11/21    NaN  \n",
      "78  120.2948  23.753836         9.0   2019/7/22    NaN  \n"
     ]
    }
   ],
   "source": [
    "data_雲林 = data[data['縣市'] == '雲林縣']\n",
    "print(data_雲林)"
   ]
  },
  {
   "cell_type": "code",
   "execution_count": 5,
   "id": "795b9437",
   "metadata": {},
   "outputs": [
    {
     "name": "stdout",
     "output_type": "stream",
     "text": [
      "    項次    測站代碼 測站中文名稱   縣市   鄉鎮                         地址  經度_WGS84  \\\n",
      "8    9  72G600   臺中農改  彰化縣  大村鄉                 田洋村松槐路370號  120.5344   \n",
      "34  35   CAG10   王功漁港  彰化縣  芳苑鄉              彰化縣芳苑鄉漁港路900號  120.3259   \n",
      "44  45   C2G84     北斗  彰化縣  北斗鎮      彰化縣北斗鎮斗苑路二段150號(螺陽國小)  120.5142   \n",
      "52  53   C2G87     芳苑  彰化縣  芳苑鄉  彰化縣芳苑鄉仁愛村斗苑路芳苑段211號(芳苑國中)  120.3200   \n",
      "53  54   C2G64     鹿港  彰化縣  鹿港鎮            彰化縣鹿港鎮海埔里顏厝巷67號  120.4305   \n",
      "\n",
      "     緯度_WGS84  海拔(橢球高)(m)   測站資料起始時間) 原測站名  \n",
      "8   24.003028        19.0    1987/1/1  NaN  \n",
      "34  23.968240         3.1  2021/12/29  NaN  \n",
      "44  23.877586        32.0    2024/1/8  NaN  \n",
      "52  23.922303        12.0    2024/1/8  NaN  \n",
      "53  24.075300        17.0    2024/1/8  NaN  \n"
     ]
    }
   ],
   "source": [
    "data_彰化 = data[data['縣市'] == '彰化縣']\n",
    "print(data_彰化)"
   ]
  },
  {
   "cell_type": "markdown",
   "id": "93ba139f",
   "metadata": {},
   "source": [
    "### 合併資料\n",
    "整合成兩個檔案\n",
    "日資料、月資料"
   ]
  },
  {
   "cell_type": "code",
   "execution_count": null,
   "id": "b5069474",
   "metadata": {},
   "outputs": [],
   "source": []
  }
 ],
 "metadata": {
  "kernelspec": {
   "display_name": "tf_env",
   "language": "python",
   "name": "python3"
  },
  "language_info": {
   "codemirror_mode": {
    "name": "ipython",
    "version": 3
   },
   "file_extension": ".py",
   "mimetype": "text/x-python",
   "name": "python",
   "nbconvert_exporter": "python",
   "pygments_lexer": "ipython3",
   "version": "3.8.19"
  }
 },
 "nbformat": 4,
 "nbformat_minor": 5
}
