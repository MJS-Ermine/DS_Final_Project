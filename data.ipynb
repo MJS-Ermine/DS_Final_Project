{
 "cells": [
  {
   "cell_type": "markdown",
   "id": "603db193",
   "metadata": {},
   "source": [
    "### 抓 pdf 資料"
   ]
  },
  {
   "cell_type": "code",
   "execution_count": 1,
   "id": "97fe0369",
   "metadata": {},
   "outputs": [],
   "source": [
    "import pdfplumber\n",
    "import pandas as pd"
   ]
  },
  {
   "cell_type": "code",
   "execution_count": null,
   "id": "46ba0088",
   "metadata": {},
   "outputs": [
    {
     "name": "stdout",
     "output_type": "stream",
     "text": [
      "All tables extracted and saved to 農業觀測站.csv\n"
     ]
    }
   ],
   "source": [
    "all_data = []  # 儲存所有頁面表格的資料\n",
    "columns = None\n",
    "\n",
    "with pdfplumber.open(\"agrStationInfo.pdf\") as pdf:\n",
    "    for page in pdf.pages:\n",
    "        table = page.extract_table()\n",
    "        if table:\n",
    "            if not columns:\n",
    "                columns = table[0]  # 第一頁取得欄位名稱\n",
    "            all_data.extend(table[1:])  # 跳過表頭，加進內容資料\n",
    "\n",
    "# 建立 DataFrame 並儲存成 CSV\n",
    "df = pd.DataFrame(all_data, columns=columns)\n",
    "df.to_csv(\"農業觀測站.csv\", index=False, encoding='utf-8-sig')\n",
    "\n",
    "print(\"All tables extracted and saved to 農業觀測站.csv\")\n"
   ]
  },
  {
   "cell_type": "markdown",
   "id": "395a4755",
   "metadata": {},
   "source": [
    "### 整理 pdf 資料並找到對應的觀測站"
   ]
  },
  {
   "cell_type": "code",
   "execution_count": 2,
   "id": "9f6ea809",
   "metadata": {},
   "outputs": [],
   "source": [
    "data = pd.read_csv(\"weatherdata/農業觀測站.csv\")"
   ]
  },
  {
   "cell_type": "code",
   "execution_count": 3,
   "id": "3d59ecd3",
   "metadata": {},
   "outputs": [
    {
     "name": "stdout",
     "output_type": "stream",
     "text": [
      "    項次    測站代碼   測站中文名稱   縣市   鄉鎮                                 地址  \\\n",
      "0    1  12J990    口湖工作站  雲林縣  口湖鄉                         口湖村成功路180號   \n",
      "10  11  72K220   南改斗南分場  雲林縣  斗南鎮                           復興路1~15號   \n",
      "27  28  A2k360  水試臺西試驗場  雲林縣  臺西鄉                      雲林縣臺西鄉中央路271號   \n",
      "28  29  A2K630   臺大雲林校區  雲林縣  虎尾鎮  雲林縣虎尾鎮學府西路8號(台大雲林分部，農業推廣教育中心，鋤禾館)   \n",
      "35  36   CAJ05   海口故事園區  雲林縣  口湖鄉                            新港綠化公園旁   \n",
      "47  48   C2K24       草嶺  雲林縣  古坑鄉                        雲林縣古坑鄉草嶺村龍頭   \n",
      "62  63  E2K600    四湖植物園  雲林縣  四湖鄉                          中華路62巷80號   \n",
      "78  79  V2K620    麥寮合作社  雲林縣  麥寮鄉                  雲林縣麥寮鄉山寮段271,272號   \n",
      "\n",
      "    經度_WGS84   緯度_WGS84  海拔(橢球高)(m)   測站資料起始時間)   原測站名  \n",
      "0   120.1804  23.589978        10.0   2018/12/5    NaN  \n",
      "10  120.4773  23.634556        60.0    1987/1/1   雲林分場  \n",
      "27  120.1905  23.717231         1.0    1990/1/2  臺西水試所  \n",
      "28  120.4239  23.730628        45.0  2019/12/12    NaN  \n",
      "35  120.1412  23.575430         2.3  2021/12/29    NaN  \n",
      "47  120.6935  23.595550      1132.0    2024/1/8    NaN  \n",
      "62  120.1634  23.676986        11.0  2018/11/21    NaN  \n",
      "78  120.2948  23.753836         9.0   2019/7/22    NaN  \n"
     ]
    }
   ],
   "source": [
    "data_雲林 = data[data['縣市'] == '雲林縣']\n",
    "print(data_雲林)"
   ]
  },
  {
   "cell_type": "code",
   "execution_count": 4,
   "id": "795b9437",
   "metadata": {},
   "outputs": [
    {
     "name": "stdout",
     "output_type": "stream",
     "text": [
      "    項次    測站代碼 測站中文名稱   縣市   鄉鎮                         地址  經度_WGS84  \\\n",
      "8    9  72G600   臺中農改  彰化縣  大村鄉                 田洋村松槐路370號  120.5344   \n",
      "34  35   CAG10   王功漁港  彰化縣  芳苑鄉              彰化縣芳苑鄉漁港路900號  120.3259   \n",
      "44  45   C2G84     北斗  彰化縣  北斗鎮      彰化縣北斗鎮斗苑路二段150號(螺陽國小)  120.5142   \n",
      "52  53   C2G87     芳苑  彰化縣  芳苑鄉  彰化縣芳苑鄉仁愛村斗苑路芳苑段211號(芳苑國中)  120.3200   \n",
      "53  54   C2G64     鹿港  彰化縣  鹿港鎮            彰化縣鹿港鎮海埔里顏厝巷67號  120.4305   \n",
      "\n",
      "     緯度_WGS84  海拔(橢球高)(m)   測站資料起始時間) 原測站名  \n",
      "8   24.003028        19.0    1987/1/1  NaN  \n",
      "34  23.968240         3.1  2021/12/29  NaN  \n",
      "44  23.877586        32.0    2024/1/8  NaN  \n",
      "52  23.922303        12.0    2024/1/8  NaN  \n",
      "53  24.075300        17.0    2024/1/8  NaN  \n"
     ]
    }
   ],
   "source": [
    "data_彰化 = data[data['縣市'] == '彰化縣']\n",
    "print(data_彰化)"
   ]
  },
  {
   "cell_type": "markdown",
   "id": "93ba139f",
   "metadata": {},
   "source": [
    "### 合併資料\n",
    "整合成兩個檔案\n",
    "日資料、月資料"
   ]
  },
  {
   "cell_type": "code",
   "execution_count": null,
   "id": "b5069474",
   "metadata": {},
   "outputs": [],
   "source": [
    "#匯入 daily 蔬菜資料\n",
    "daily_花椰菜 = pd.read_csv(\"vegdata/花椰菜 青梗.csv\")\n",
    "daily_茼蒿 = pd.read_csv(\"vegdata/茼蒿.csv\")\n",
    "daily_豌豆 = pd.read_csv(\"vegdata/豌豆 甜豌豆.csv\")"
   ]
  },
  {
   "cell_type": "code",
   "execution_count": 6,
   "id": "e2cfdc10",
   "metadata": {},
   "outputs": [
    {
     "name": "stdout",
     "output_type": "stream",
     "text": [
      "          日期       市場           產品    上價    中價    下價  平均價(元/公斤)  交易量(公斤)\n",
      "0  104/01/01  400 台中市  FB1 花椰菜 青梗   31.8  21.6  15.6       21.1   1881.0\n",
      "1  104/01/02  400 台中市  FB1 花椰菜 青梗   34.1  25.9  19.9       25.0   1617.0\n",
      "2  104/01/03  400 台中市  FB1 花椰菜 青梗   34.5  24.5  18.9       25.3   3114.0\n",
      "3  104/01/04  400 台中市  FB1 花椰菜 青梗   35.3  27.5  21.2       28.1   3308.0\n",
      "4  104/01/06  400 台中市  FB1 花椰菜 青梗   31.2  24.5  20.4       24.9   5902.0\n"
     ]
    }
   ],
   "source": [
    "# 合併成一個 DataFrame\n",
    "merged_daily = pd.concat([daily_花椰菜, daily_茼蒿, daily_豌豆], ignore_index=True)\n",
    "print(merged_daily.head())"
   ]
  },
  {
   "cell_type": "code",
   "execution_count": null,
   "id": "b68c6f04",
   "metadata": {},
   "outputs": [],
   "source": [
    "#匯入週蔬菜資料\n",
    "weekly_花椰菜 = pd.read_csv(\"vegdata/花椰菜 青梗_周平均資料.csv\")\n",
    "weekly_茼蒿 = pd.read_csv(\"vegdata/茼蒿_周平均資料.csv\")\n",
    "weekly_豌豆 = pd.read_csv(\"vegdata/豌豆 甜豌豆_周平均資料.csv\")"
   ]
  },
  {
   "cell_type": "code",
   "execution_count": 8,
   "id": "e2392fcd",
   "metadata": {},
   "outputs": [
    {
     "name": "stdout",
     "output_type": "stream",
     "text": [
      "        市場  year  week         上價         中價         下價   平均價_元每公斤  \\\n",
      "0  400 台中市  2015     1  33.925000  24.875000  18.900000  24.875000   \n",
      "1  400 台中市  2015     2  27.100000  19.966667  15.883333  20.583333   \n",
      "2  400 台中市  2015     3  18.500000  13.233333   9.766667  14.333333   \n",
      "3  400 台中市  2015     4  13.900000   9.433333   6.233333  10.283333   \n",
      "4  400 台中市  2015     5  12.633333   8.750000   5.766667   9.283333   \n",
      "\n",
      "        交易量_公斤       品項  \n",
      "0  2480.000000  花椰菜（青梗）  \n",
      "1  4446.333333  花椰菜（青梗）  \n",
      "2  6178.166667  花椰菜（青梗）  \n",
      "3  5613.166667  花椰菜（青梗）  \n",
      "4  6086.166667  花椰菜（青梗）  \n"
     ]
    }
   ],
   "source": [
    "# 加入新欄位表示品項來源\n",
    "weekly_花椰菜['品項'] = '花椰菜（青梗）'\n",
    "weekly_茼蒿['品項'] = '茼蒿'\n",
    "weekly_豌豆['品項'] = '甜豌豆'\n",
    "merged_weekly = pd.concat([weekly_花椰菜, weekly_茼蒿, weekly_豌豆], ignore_index=True)\n",
    "print(merged_weekly.head())"
   ]
  },
  {
   "cell_type": "markdown",
   "id": "40364d6b",
   "metadata": {},
   "source": [
    "### 天氣資料整理"
   ]
  },
  {
   "cell_type": "code",
   "execution_count": null,
   "id": "c965132a",
   "metadata": {},
   "outputs": [
    {
     "name": "stdout",
     "output_type": "stream",
     "text": [
      "{'encoding': 'utf-8', 'confidence': 0.99, 'language': ''}\n"
     ]
    }
   ],
   "source": [
    "import chardet\n",
    "\n",
    "# 先偵測檔案編碼\n",
    "with open('weatherdata/雲林天氣.csv', 'rb') as f:\n",
    "    result = chardet.detect(f.read())\n",
    "    print(result)  # 印出編碼類型\n",
    "    \n",
    "columns = [\n",
    "    \"測站代碼\", \"觀測時間\", \"平均氣壓(hPa)\", \"海平面氣壓(hPa)\", \"日最高氣壓(hPa)\", \"最高氣壓時間\",\n",
    "    \"日最低氣壓(hPa)\", \"最低氣壓時間\", \"平均氣溫(℃)\", \"最高氣溫(℃)\", \"最高氣溫時間\",\n",
    "    \"最低氣溫(℃)\", \"最低氣溫時間\", \"平均露點溫度(℃)\", \"平均相對溼度(%)\", \"最低相對溼度(%)\",\n",
    "    \"最低相對溼度時間\", \"平均風速(m/s)\", \"平均風向(°)\", \"最大陣風風速(m/s)\", \"最大陣風風向(°)\",\n",
    "    \"最大陣風時間\", \"累計雨量(mm)\", \"最大10分鐘降水量(mm)\", \"最大10分鐘降水量起始時間\",\n",
    "    \"最大60分鐘降水量(mm)\", \"最大60分鐘降水量起始時間\", \"累積日照時數(hr)\", \"累積日射量(MJ/m2)\",\n",
    "    \"累積蒸發量(mm)\", \"平均地溫0cm(℃)\", \"平均地溫5cm(℃)\", \"平均地溫10cm(℃)\",\n",
    "    \"平均地溫20cm(℃)\", \"平均地溫50cm(℃)\", \"平均地溫100cm(℃)\"\n",
    "]\n",
    "\n",
    "weather_雲林 = pd.read_csv(\n",
    "    'weatherdata/雲林天氣.csv',\n",
    "    encoding=result['encoding'],\n",
    "    usecols=range(36),\n",
    "    names=columns,\n",
    "    header=0 \n",
    ")\n",
    "\n",
    "weather_彰化 = pd.read_csv(\n",
    "    'weatherdata/彰化天氣.csv',\n",
    "    encoding=result['encoding'],\n",
    "    usecols=range(36),\n",
    "    names=columns,\n",
    "    header=0\n",
    ")\n"
   ]
  },
  {
   "cell_type": "markdown",
   "id": "aa9ce7c6",
   "metadata": {},
   "source": [
    "#### 兩者資料是否有顯著差異\n",
    "結果顯示兩個氣象站的資料是顯著不同，但為了方便計算，我們參採兩邊氣候各 %50，用來代表整體彰化、雲林的氣候。"
   ]
  },
  {
   "cell_type": "code",
   "execution_count": 18,
   "id": "68147ba4",
   "metadata": {},
   "outputs": [],
   "source": [
    "merged = pd.merge(weather_雲林, weather_彰化, on='觀測時間', suffixes=('_雲林', '_彰化'))"
   ]
  },
  {
   "cell_type": "code",
   "execution_count": 19,
   "id": "5e792db9",
   "metadata": {},
   "outputs": [],
   "source": [
    "numeric_cols = [\n",
    "    \"平均氣溫(℃)\", \"平均氣壓(hPa)\", \"平均相對溼度(%)\",\n",
    "    \"平均風速(m/s)\", \"累計雨量(mm)\", \"累積日照時數(hr)\"\n",
    "]\n"
   ]
  },
  {
   "cell_type": "code",
   "execution_count": 20,
   "id": "87d1cf3c",
   "metadata": {},
   "outputs": [],
   "source": [
    "for col in numeric_cols:\n",
    "    merged[f'{col}_diff'] = merged[f'{col}_雲林'] - merged[f'{col}_彰化']\n"
   ]
  },
  {
   "cell_type": "code",
   "execution_count": 22,
   "id": "7eeb56f0",
   "metadata": {},
   "outputs": [
    {
     "name": "stdout",
     "output_type": "stream",
     "text": [
      "平均氣溫(℃)：t=7.39, p=0.0000\n",
      "平均氣壓(hPa)：t=-191.40, p=0.0000\n",
      "平均相對溼度(%)：t=3.09, p=0.0020\n",
      "平均風速(m/s)：t=-47.91, p=0.0000\n",
      "累計雨量(mm)：t=3.56, p=0.0004\n",
      "累積日照時數(hr)：t=5.97, p=0.0000\n"
     ]
    }
   ],
   "source": [
    "from scipy.stats import ttest_rel\n",
    "\n",
    "for col in numeric_cols:\n",
    "    x = merged[f'{col}_雲林']\n",
    "    y = merged[f'{col}_彰化']\n",
    "    valid = (~x.isna()) & (~y.isna())\n",
    "    if valid.sum() == 0:\n",
    "        print(f\"{col}：無有效配對資料\")\n",
    "        continue\n",
    "    t_stat, p_value = ttest_rel(x[valid], y[valid])\n",
    "    print(f\"{col}：t={t_stat:.2f}, p={p_value:.4f}\")\n",
    "\n"
   ]
  },
  {
   "cell_type": "markdown",
   "id": "fcfd25e0",
   "metadata": {},
   "source": [
    "#### 生成 each column 的 report\n",
    "見 app.py"
   ]
  },
  {
   "cell_type": "code",
   "execution_count": 26,
   "id": "bb8c069b",
   "metadata": {},
   "outputs": [
    {
     "name": "stdout",
     "output_type": "stream",
     "text": [
      "               Missing_Values    Min      Max\n",
      "平均氣壓(hPa)                 123  972.5  1026.80\n",
      "海平面氣壓(hPa)               1239  984.0  1999.90\n",
      "日最高氣壓(hPa)                123  986.4  1028.90\n",
      "日最低氣壓(hPa)                123  958.9  1023.10\n",
      "平均氣溫(℃)                   125    0.0    32.30\n",
      "最高氣溫(℃)                   125    0.0    38.50\n",
      "最低氣溫(℃)                   125  -39.6    28.50\n",
      "平均露點溫度(℃)                 125    0.0    27.50\n",
      "平均相對溼度(%)                 125    0.0    99.00\n",
      "最低相對溼度(%)                 125    0.0    99.00\n",
      "平均風速(m/s)                 123    0.1     7.60\n",
      "平均風向(°)                   157   10.0   360.00\n",
      "最大陣風風速(m/s)               123    1.3    35.40\n",
      "最大陣風風向(°)                 123    0.0   360.00\n",
      "累計雨量(mm)                  137    0.0   388.00\n",
      "最大10分鐘降水量(mm)            1239    0.0    26.50\n",
      "最大60分鐘降水量(mm)            1239    0.0    81.50\n",
      "累積日照時數(hr)                126    0.0    27.30\n",
      "累積日射量(MJ/m2)              317    0.0    32.94\n",
      "累積蒸發量(mm)                2766    0.0    12.40\n",
      "平均地溫0cm(℃)               1285    9.3    34.00\n",
      "平均地溫5cm(℃)                175   10.0    34.60\n",
      "平均地溫10cm(℃)               175   12.1    34.50\n",
      "平均地溫20cm(℃)               175   13.8    34.50\n",
      "平均地溫50cm(℃)               175   17.0    33.20\n",
      "平均地溫100cm(℃)              175   19.0    31.80\n"
     ]
    }
   ],
   "source": [
    "import pandas as pd\n",
    "import numpy as np\n",
    "\n",
    "# 假設 df 是你的 DataFrame\n",
    "# 選出數值型欄位（排除 datetime 與 object）\n",
    "numeric_cols = weather_雲林.select_dtypes(include=[np.number]).columns\n",
    "\n",
    "# 建立 summary 表格\n",
    "summary = pd.DataFrame(index=numeric_cols)\n",
    "summary['Missing_Values'] = weather_雲林[numeric_cols].isna().sum()\n",
    "summary['Min'] = weather_雲林[numeric_cols].min()\n",
    "summary['Max'] = weather_雲林[numeric_cols].max()\n",
    "\n",
    "print(summary)\n"
   ]
  },
  {
   "cell_type": "code",
   "execution_count": 27,
   "id": "1328c646",
   "metadata": {},
   "outputs": [
    {
     "name": "stdout",
     "output_type": "stream",
     "text": [
      "               Missing_Values    Min      Max\n",
      "平均氣壓(hPa)                  69  978.8  1032.10\n",
      "海平面氣壓(hPa)               1242  981.0  1027.00\n",
      "日最高氣壓(hPa)                 69  988.6  1033.80\n",
      "日最低氣壓(hPa)                 69  962.0  1028.30\n",
      "平均氣溫(℃)                    80    5.6    34.00\n",
      "最高氣溫(℃)                    80    7.7    39.20\n",
      "最低氣溫(℃)                    80   -4.9    29.90\n",
      "平均露點溫度(℃)                 110    0.8    27.80\n",
      "平均相對溼度(%)                 131   41.0   100.00\n",
      "最低相對溼度(%)                 131    0.0   100.00\n",
      "平均風速(m/s)                  69    0.4     8.30\n",
      "平均風向(°)                   127   10.0   360.00\n",
      "最大陣風風速(m/s)                70    0.2    48.20\n",
      "最大陣風風向(°)                  72   10.0   360.00\n",
      "累計雨量(mm)                   87    0.0   374.00\n",
      "最大10分鐘降水量(mm)            1242    0.0    28.00\n",
      "最大60分鐘降水量(mm)            1242    0.0    89.00\n",
      "累積日照時數(hr)                138    0.0    23.40\n",
      "累積日射量(MJ/m2)              105    0.0    36.86\n",
      "累積蒸發量(mm)                2873    0.0    14.50\n",
      "平均地溫0cm(℃)               1223    9.4    33.40\n",
      "平均地溫5cm(℃)                 77   11.9    32.90\n",
      "平均地溫10cm(℃)                77   13.6    32.60\n",
      "平均地溫20cm(℃)                77   15.4    32.50\n",
      "平均地溫50cm(℃)                77   17.6    31.90\n",
      "平均地溫100cm(℃)               77   19.4    30.90\n"
     ]
    }
   ],
   "source": [
    "# 假設 df 是你的 DataFrame\n",
    "# 選出數值型欄位（排除 datetime 與 object）\n",
    "numeric_cols = weather_彰化.select_dtypes(include=[np.number]).columns\n",
    "\n",
    "# 建立 summary 表格\n",
    "summary = pd.DataFrame(index=numeric_cols)\n",
    "summary['Missing_Values'] = weather_彰化[numeric_cols].isna().sum()\n",
    "summary['Min'] = weather_彰化[numeric_cols].min()\n",
    "summary['Max'] = weather_彰化[numeric_cols].max()\n",
    "\n",
    "print(summary)\n"
   ]
  }
 ],
 "metadata": {
  "kernelspec": {
   "display_name": "tf_env",
   "language": "python",
   "name": "python3"
  },
  "language_info": {
   "codemirror_mode": {
    "name": "ipython",
    "version": 3
   },
   "file_extension": ".py",
   "mimetype": "text/x-python",
   "name": "python",
   "nbconvert_exporter": "python",
   "pygments_lexer": "ipython3",
   "version": "3.8.19"
  }
 },
 "nbformat": 4,
 "nbformat_minor": 5
}
